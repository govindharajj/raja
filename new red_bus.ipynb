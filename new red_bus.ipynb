{
 "cells": [
  {
   "cell_type": "code",
   "execution_count": 1,
   "metadata": {},
   "outputs": [],
   "source": [
    "import pandas as pd"
   ]
  },
  {
   "cell_type": "code",
   "execution_count": 2,
   "metadata": {},
   "outputs": [],
   "source": [
    "df1=pd.read_csv(\"kerala.csv\")\n",
    "df2=pd.read_csv(\"anthara.csv\")\n",
    "df3=pd.read_csv(\"assam.csv\")\n",
    "df4=pd.read_csv(\"telungana.csv\")\n",
    "df5=pd.read_csv(\"kadamba.csv\")\n",
    "df6=pd.read_csv(\"southbengal.csv\")\n",
    "df7=pd.read_csv(\"himachal pradesh.csv\")\n",
    "df8=pd.read_csv(\"uttrapratesh.csv\")\n",
    "df9=pd.read_csv(\"bhigar.csv\")\n",
    "df10=pd.read_csv(\"chandigarh.csv\")"
   ]
  },
  {
   "cell_type": "code",
   "execution_count": 3,
   "metadata": {},
   "outputs": [],
   "source": [
    "df=pd.concat([df1,df2,df3,df4,df5,df6,df7,df8,df9,df10])"
   ]
  },
  {
   "cell_type": "code",
   "execution_count": null,
   "metadata": {},
   "outputs": [],
   "source": []
  },
  {
   "cell_type": "code",
   "execution_count": 4,
   "metadata": {},
   "outputs": [
    {
     "data": {
      "text/plain": [
       "routename      117\n",
       "seat           246\n",
       "bustypes         0\n",
       "busnames         0\n",
       "routetimes       0\n",
       "starratings     76\n",
       "tickets          0\n",
       "reaching         0\n",
       " duration        0\n",
       "STATE            0\n",
       "routemname     600\n",
       "dtype: int64"
      ]
     },
     "execution_count": 4,
     "metadata": {},
     "output_type": "execute_result"
    }
   ],
   "source": [
    "df.isnull().sum()"
   ]
  },
  {
   "cell_type": "code",
   "execution_count": 4,
   "metadata": {},
   "outputs": [],
   "source": [
    "df.fillna('N/A',inplace=True)"
   ]
  },
  {
   "cell_type": "code",
   "execution_count": 5,
   "metadata": {},
   "outputs": [],
   "source": [
    "df.drop(columns=['routemname'],inplace=True)"
   ]
  },
  {
   "cell_type": "code",
   "execution_count": 6,
   "metadata": {},
   "outputs": [
    {
     "data": {
      "text/plain": [
       "Index(['routename', 'seat', 'bustypes', 'busnames', 'routetimes',\n",
       "       'starratings', 'tickets', 'reaching', ' duration', 'STATE'],\n",
       "      dtype='object')"
      ]
     },
     "execution_count": 6,
     "metadata": {},
     "output_type": "execute_result"
    }
   ],
   "source": [
    "df.columns"
   ]
  },
  {
   "cell_type": "code",
   "execution_count": null,
   "metadata": {},
   "outputs": [],
   "source": []
  },
  {
   "cell_type": "code",
   "execution_count": null,
   "metadata": {},
   "outputs": [],
   "source": []
  },
  {
   "cell_type": "code",
   "execution_count": 7,
   "metadata": {},
   "outputs": [
    {
     "name": "stdout",
     "output_type": "stream",
     "text": [
      "Requirement already satisfied: mysql-connector-python in c:\\users\\govindharaj arumugam\\appdata\\local\\programs\\python\\python313\\lib\\site-packages (9.2.0)\n"
     ]
    }
   ],
   "source": [
    "!pip install mysql-connector-python   "
   ]
  },
  {
   "cell_type": "code",
   "execution_count": 8,
   "metadata": {},
   "outputs": [],
   "source": [
    "import mysql.connector"
   ]
  },
  {
   "cell_type": "code",
   "execution_count": 9,
   "metadata": {},
   "outputs": [],
   "source": [
    "# Establish the connection\n",
    "connection = mysql.connector.connect(\n",
    "        host=\"127.0.0.1\",\n",
    "        port=3306,\n",
    "        user='root',\n",
    "        password=\"root\",\n",
    "       database=\"red_bus\" )\n",
    "\n",
    "\n",
    "cursor = connection.cursor()\n"
   ]
  },
  {
   "cell_type": "code",
   "execution_count": 11,
   "metadata": {},
   "outputs": [],
   "source": [
    "cursor.execute(\"\"\"\n",
    "    CREATE TABLE IF NOT EXISTS bus_data (\n",
    "        route_name VARCHAR(100),\n",
    "        seats VARCHAR(100),\n",
    "        bus_types VARCHAR(50),\n",
    "        bus_names VARCHAR(100),\n",
    "        route_times VARCHAR(100),\n",
    "        star_ratings VARCHAR(100),  -- Added missing comma\n",
    "        tickets VARCHAR(100),\n",
    "        reaching VARCHAR(100),\n",
    "        duration VARCHAR(100),\n",
    "        state VARCHAR(50)       \n",
    "    );\n",
    "\"\"\")\n",
    "\n"
   ]
  },
  {
   "cell_type": "code",
   "execution_count": 12,
   "metadata": {},
   "outputs": [
    {
     "data": {
      "text/html": [
       "<div>\n",
       "<style scoped>\n",
       "    .dataframe tbody tr th:only-of-type {\n",
       "        vertical-align: middle;\n",
       "    }\n",
       "\n",
       "    .dataframe tbody tr th {\n",
       "        vertical-align: top;\n",
       "    }\n",
       "\n",
       "    .dataframe thead th {\n",
       "        text-align: right;\n",
       "    }\n",
       "</style>\n",
       "<table border=\"1\" class=\"dataframe\">\n",
       "  <thead>\n",
       "    <tr style=\"text-align: right;\">\n",
       "      <th></th>\n",
       "      <th>routename</th>\n",
       "      <th>seat</th>\n",
       "      <th>bustypes</th>\n",
       "      <th>busnames</th>\n",
       "      <th>routetimes</th>\n",
       "      <th>starratings</th>\n",
       "      <th>tickets</th>\n",
       "      <th>reaching</th>\n",
       "      <th>duration</th>\n",
       "      <th>STATE</th>\n",
       "    </tr>\n",
       "  </thead>\n",
       "  <tbody>\n",
       "    <tr>\n",
       "      <th>0</th>\n",
       "      <td>Kozhikode to Ernakulam</td>\n",
       "      <td>27 Seats available</td>\n",
       "      <td>A/C Seater (2+2)</td>\n",
       "      <td>Deer Bus LLP</td>\n",
       "      <td>17:30</td>\n",
       "      <td>4.3</td>\n",
       "      <td>Starts from\\nINR 350</td>\n",
       "      <td>22:10</td>\n",
       "      <td>04h 40m</td>\n",
       "      <td>KERALA</td>\n",
       "    </tr>\n",
       "    <tr>\n",
       "      <th>1</th>\n",
       "      <td>Kozhikode to Ernakulam</td>\n",
       "      <td>28 Seats available</td>\n",
       "      <td>A/C Seater (2+2)</td>\n",
       "      <td>Deer Bus LLP</td>\n",
       "      <td>17:30</td>\n",
       "      <td>4.3</td>\n",
       "      <td>Starts from\\nINR 350</td>\n",
       "      <td>22:10</td>\n",
       "      <td>04h 40m</td>\n",
       "      <td>KERALA</td>\n",
       "    </tr>\n",
       "    <tr>\n",
       "      <th>2</th>\n",
       "      <td>Kozhikode to Ernakulam</td>\n",
       "      <td>28 Seats available</td>\n",
       "      <td>A/C Seater (2+2)</td>\n",
       "      <td>Deer Bus LLP</td>\n",
       "      <td>17:30</td>\n",
       "      <td>4.3</td>\n",
       "      <td>Starts from\\nINR 350</td>\n",
       "      <td>22:10</td>\n",
       "      <td>04h 40m</td>\n",
       "      <td>KERALA</td>\n",
       "    </tr>\n",
       "    <tr>\n",
       "      <th>3</th>\n",
       "      <td>Kozhikode to Ernakulam</td>\n",
       "      <td>18 Seats available</td>\n",
       "      <td>A/C Seater (2+2)</td>\n",
       "      <td>Deer Bus LLP</td>\n",
       "      <td>17:30</td>\n",
       "      <td>4.3</td>\n",
       "      <td>Starts from\\nINR 350</td>\n",
       "      <td>22:10</td>\n",
       "      <td>04h 40m</td>\n",
       "      <td>KERALA</td>\n",
       "    </tr>\n",
       "    <tr>\n",
       "      <th>4</th>\n",
       "      <td>Kozhikode to Ernakulam</td>\n",
       "      <td>N/A</td>\n",
       "      <td>A/C Seater (2+2)</td>\n",
       "      <td>Deer Bus LLP</td>\n",
       "      <td>17:30</td>\n",
       "      <td>4.3</td>\n",
       "      <td>Starts from\\nINR 350</td>\n",
       "      <td>22:10</td>\n",
       "      <td>04h 40m</td>\n",
       "      <td>KERALA</td>\n",
       "    </tr>\n",
       "    <tr>\n",
       "      <th>...</th>\n",
       "      <td>...</td>\n",
       "      <td>...</td>\n",
       "      <td>...</td>\n",
       "      <td>...</td>\n",
       "      <td>...</td>\n",
       "      <td>...</td>\n",
       "      <td>...</td>\n",
       "      <td>...</td>\n",
       "      <td>...</td>\n",
       "      <td>...</td>\n",
       "    </tr>\n",
       "    <tr>\n",
       "      <th>28</th>\n",
       "      <td>Barasat (West Bengal) to Digha</td>\n",
       "      <td>30 Seats available</td>\n",
       "      <td>Benz A/C Seater (2+2)</td>\n",
       "      <td>Lokenath Bus Service</td>\n",
       "      <td>22:00</td>\n",
       "      <td>4.3</td>\n",
       "      <td>Starts from\\nINR 549 467</td>\n",
       "      <td>05:00</td>\n",
       "      <td>07h 00m</td>\n",
       "      <td>chandigarh</td>\n",
       "    </tr>\n",
       "    <tr>\n",
       "      <th>29</th>\n",
       "      <td>Barasat (West Bengal) to Digha</td>\n",
       "      <td>41 Seats available</td>\n",
       "      <td>Benz A/C Seater (2+2)</td>\n",
       "      <td>Lokenath Bus Service</td>\n",
       "      <td>22:00</td>\n",
       "      <td>4.3</td>\n",
       "      <td>Starts from\\nINR 549 467</td>\n",
       "      <td>05:00</td>\n",
       "      <td>07h 00m</td>\n",
       "      <td>chandigarh</td>\n",
       "    </tr>\n",
       "    <tr>\n",
       "      <th>30</th>\n",
       "      <td>Barasat (West Bengal) to Nandakumar (west bengal)</td>\n",
       "      <td>54 Seats available</td>\n",
       "      <td>Non AC Seater (2+3)</td>\n",
       "      <td>WBTC (CTC) HABRA-DIGHA via Bally - 26|14:00</td>\n",
       "      <td>14:00</td>\n",
       "      <td>4.6</td>\n",
       "      <td>INR 90</td>\n",
       "      <td>16:10</td>\n",
       "      <td>02h 10m</td>\n",
       "      <td>chandigarh</td>\n",
       "    </tr>\n",
       "    <tr>\n",
       "      <th>31</th>\n",
       "      <td>Barasat (West Bengal) to Nandakumar (west bengal)</td>\n",
       "      <td>36 Seats available</td>\n",
       "      <td>Non AC Seater (2+3)</td>\n",
       "      <td>WBTC (CTC) HABRA-DIGHA via Bally - 26|14:00</td>\n",
       "      <td>14:00</td>\n",
       "      <td>4.6</td>\n",
       "      <td>INR 90</td>\n",
       "      <td>16:10</td>\n",
       "      <td>02h 10m</td>\n",
       "      <td>chandigarh</td>\n",
       "    </tr>\n",
       "    <tr>\n",
       "      <th>32</th>\n",
       "      <td>Barasat (West Bengal) to Nandakumar (west bengal)</td>\n",
       "      <td>11 Seats available</td>\n",
       "      <td>Non AC Seater (2+3)</td>\n",
       "      <td>WBTC (CTC) HABRA-DIGHA via Bally - 26|14:00</td>\n",
       "      <td>14:00</td>\n",
       "      <td>4.6</td>\n",
       "      <td>INR 90</td>\n",
       "      <td>16:10</td>\n",
       "      <td>02h 10m</td>\n",
       "      <td>chandigarh</td>\n",
       "    </tr>\n",
       "  </tbody>\n",
       "</table>\n",
       "<p>711 rows × 10 columns</p>\n",
       "</div>"
      ],
      "text/plain": [
       "                                            routename                seat  \\\n",
       "0                              Kozhikode to Ernakulam  27 Seats available   \n",
       "1                              Kozhikode to Ernakulam  28 Seats available   \n",
       "2                              Kozhikode to Ernakulam  28 Seats available   \n",
       "3                              Kozhikode to Ernakulam  18 Seats available   \n",
       "4                              Kozhikode to Ernakulam                 N/A   \n",
       "..                                                ...                 ...   \n",
       "28                     Barasat (West Bengal) to Digha  30 Seats available   \n",
       "29                     Barasat (West Bengal) to Digha  41 Seats available   \n",
       "30  Barasat (West Bengal) to Nandakumar (west bengal)  54 Seats available   \n",
       "31  Barasat (West Bengal) to Nandakumar (west bengal)  36 Seats available   \n",
       "32  Barasat (West Bengal) to Nandakumar (west bengal)  11 Seats available   \n",
       "\n",
       "                 bustypes                                     busnames  \\\n",
       "0        A/C Seater (2+2)                                 Deer Bus LLP   \n",
       "1        A/C Seater (2+2)                                 Deer Bus LLP   \n",
       "2        A/C Seater (2+2)                                 Deer Bus LLP   \n",
       "3        A/C Seater (2+2)                                 Deer Bus LLP   \n",
       "4        A/C Seater (2+2)                                 Deer Bus LLP   \n",
       "..                    ...                                          ...   \n",
       "28  Benz A/C Seater (2+2)                         Lokenath Bus Service   \n",
       "29  Benz A/C Seater (2+2)                         Lokenath Bus Service   \n",
       "30    Non AC Seater (2+3)  WBTC (CTC) HABRA-DIGHA via Bally - 26|14:00   \n",
       "31    Non AC Seater (2+3)  WBTC (CTC) HABRA-DIGHA via Bally - 26|14:00   \n",
       "32    Non AC Seater (2+3)  WBTC (CTC) HABRA-DIGHA via Bally - 26|14:00   \n",
       "\n",
       "   routetimes starratings                   tickets reaching  duration  \\\n",
       "0       17:30         4.3      Starts from\\nINR 350    22:10   04h 40m   \n",
       "1       17:30         4.3      Starts from\\nINR 350    22:10   04h 40m   \n",
       "2       17:30         4.3      Starts from\\nINR 350    22:10   04h 40m   \n",
       "3       17:30         4.3      Starts from\\nINR 350    22:10   04h 40m   \n",
       "4       17:30         4.3      Starts from\\nINR 350    22:10   04h 40m   \n",
       "..        ...         ...                       ...      ...       ...   \n",
       "28      22:00         4.3  Starts from\\nINR 549 467    05:00   07h 00m   \n",
       "29      22:00         4.3  Starts from\\nINR 549 467    05:00   07h 00m   \n",
       "30      14:00         4.6                    INR 90    16:10   02h 10m   \n",
       "31      14:00         4.6                    INR 90    16:10   02h 10m   \n",
       "32      14:00         4.6                    INR 90    16:10   02h 10m   \n",
       "\n",
       "         STATE  \n",
       "0       KERALA  \n",
       "1       KERALA  \n",
       "2       KERALA  \n",
       "3       KERALA  \n",
       "4       KERALA  \n",
       "..         ...  \n",
       "28  chandigarh  \n",
       "29  chandigarh  \n",
       "30  chandigarh  \n",
       "31  chandigarh  \n",
       "32  chandigarh  \n",
       "\n",
       "[711 rows x 10 columns]"
      ]
     },
     "execution_count": 12,
     "metadata": {},
     "output_type": "execute_result"
    }
   ],
   "source": [
    "df"
   ]
  },
  {
   "cell_type": "code",
   "execution_count": null,
   "metadata": {},
   "outputs": [],
   "source": [
    "#df.dropna(inplace=True)"
   ]
  },
  {
   "cell_type": "code",
   "execution_count": null,
   "metadata": {},
   "outputs": [
    {
     "data": {
      "text/plain": [
       "Index(['routename', 'seat', 'bustypes', 'busnames', 'routetimes',\n",
       "       'starratings', 'tickets', 'reaching', ' duration', 'STATE'],\n",
       "      dtype='object')"
      ]
     },
     "execution_count": 14,
     "metadata": {},
     "output_type": "execute_result"
    }
   ],
   "source": [
    "#df.columns"
   ]
  },
  {
   "cell_type": "code",
   "execution_count": 13,
   "metadata": {},
   "outputs": [],
   "source": [
    "insert_query=\"\"\"INSERT INTO bus_data(route_name,seats,bus_type,bus_name,route_times,star_rating,tickets,reaching, duration,STATE)  \n",
    "VALUES (%s, %s, %s, %s, %s, %s, %s, %s, %s,%s)\"\"\"\n",
    "for index,row in df.iterrows():\n",
    "     values =(\n",
    "              row['routename'],\n",
    "              row['seat'],\n",
    "              row['bustypes'],\n",
    "              row['busnames'],\n",
    "              row['routetimes'],\n",
    "              row['starratings'],\n",
    "              row['tickets'],\n",
    "              row['reaching'],\n",
    "              row[' duration'],\n",
    "              row['STATE'])  \n",
    "     \n",
    "     cursor.execute(insert_query,values)\n",
    "\n",
    "     connection.commit()"
   ]
  }
 ],
 "metadata": {
  "kernelspec": {
   "display_name": "Python 3",
   "language": "python",
   "name": "python3"
  },
  "language_info": {
   "codemirror_mode": {
    "name": "ipython",
    "version": 3
   },
   "file_extension": ".py",
   "mimetype": "text/x-python",
   "name": "python",
   "nbconvert_exporter": "python",
   "pygments_lexer": "ipython3",
   "version": "3.13.2"
  }
 },
 "nbformat": 4,
 "nbformat_minor": 2
}
